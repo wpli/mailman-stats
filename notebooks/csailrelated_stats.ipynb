{
 "metadata": {
  "name": ""
 },
 "nbformat": 3,
 "nbformat_minor": 0,
 "worksheets": [
  {
   "cells": [
    {
     "cell_type": "heading",
     "level": 1,
     "metadata": {},
     "source": [
      "Male and Female Participation on csail-related@csail.mit.edu"
     ]
    },
    {
     "cell_type": "markdown",
     "metadata": {},
     "source": [
      "William Li, wli@csail.mit.edu"
     ]
    },
    {
     "cell_type": "heading",
     "level": 3,
     "metadata": {},
     "source": [
      "Introduction"
     ]
    },
    {
     "cell_type": "markdown",
     "metadata": {},
     "source": [
      "csail-related@csail.mit.edu (\"csail-related\") is the lab-wide email list of the [MIT Computer Science and Artificial Intelligence Laboratory (CSAIL)](http://csail.mit.edu). CSAIL is the largest research laboratory at MIT. The archives of csail-related, dating back to July 2004, are publicly available at http://lists.csail.mit.edu/pipermail/csail-related.\n",
      "\n",
      "There are more men than women on csail-related. Is participation by gender proportionatelly higher or lower on csail-related? We hypothesize that males contribute <i>disproportionately more</i> to csail-related than females."
     ]
    },
    {
     "cell_type": "heading",
     "level": 3,
     "metadata": {},
     "source": [
      "Methodology"
     ]
    },
    {
     "cell_type": "markdown",
     "metadata": {},
     "source": [
      "We propose the following:\n",
      "\n",
      "1. Scrape the csail-related archives by month.\n",
      "2. Apply a gender checker on people's first names and compute the fraction of emails originating from males for each month. A common method of doing this is to use data derived from U.S. Census data. Many open-source packages are available to do this. \n",
      "3. Test the following null hypothesis under $\\alpha = 0.05$: the fraction of emails sent by males to csail-related is equal to, or less than, the fraction of males in CSAIL."
     ]
    },
    {
     "cell_type": "heading",
     "level": 3,
     "metadata": {},
     "source": [
      "Code/Implementation"
     ]
    },
    {
     "cell_type": "markdown",
     "metadata": {},
     "source": [
      "Most of the code is wrapped in functions at the end of this document. This notebook and related code can be found at https://github.com/wpli/mailman-stats."
     ]
    },
    {
     "cell_type": "markdown",
     "metadata": {},
     "source": [
      "From July 2004 to January 2014, there have been 115 months:"
     ]
    },
    {
     "cell_type": "code",
     "collapsed": false,
     "input": [
      "print len( get_all_ym_tuples() )"
     ],
     "language": "python",
     "metadata": {},
     "outputs": [
      {
       "output_type": "stream",
       "stream": "stdout",
       "text": [
        "115\n"
       ]
      }
     ],
     "prompt_number": 196
    },
    {
     "cell_type": "markdown",
     "metadata": {},
     "source": [
      "We will get build ym_email_dict, which has ( year, month ) as keys and the list of authors as tuples:\n",
      "\n",
      "\n"
     ]
    },
    {
     "cell_type": "code",
     "collapsed": false,
     "input": [
      "ym_email_dict = get_emails_by_month()\n",
      "\n",
      "# sample entry: July 2004\n",
      "print ym_email_dict[(2004,7)]"
     ],
     "language": "python",
     "metadata": {},
     "outputs": [
      {
       "output_type": "stream",
       "stream": "stdout",
       "text": [
        "['C. Scott Ananian', 'C. Scott Ananian', 'Rodney Brooks', 'Michael McGeachie', 'Michael G. Ross', 'Richard Stallman']\n"
       ]
      }
     ],
     "prompt_number": 200
    },
    {
     "cell_type": "code",
     "collapsed": false,
     "input": [
      "print \"Total Emails:\", numpy.sum( [ len(i) for i in ym_email_dict.values() ] )\n",
      "print \"Total Unique Authors:\", len( set( [ i for sublist in ym_email_dict.values() for i in sublist ] ) )"
     ],
     "language": "python",
     "metadata": {},
     "outputs": [
      {
       "output_type": "stream",
       "stream": "stdout",
       "text": [
        "Total Emails: 12231\n",
        "Total Unique Authors: 2067\n"
       ]
      }
     ],
     "prompt_number": 240
    },
    {
     "cell_type": "markdown",
     "metadata": {},
     "source": [
      "Next, we apply our gender checker on first names. We apply some rule-based logic for names that are in the format \"Last, First\" and for names with initials (e.g. K. Bob Smith). We use a dictionary available from [this repository](https://github.com/Bemmu/gender-from-name). Note that, if we cannot determine the gender, we exclude it from our analysis."
     ]
    },
    {
     "cell_type": "code",
     "collapsed": false,
     "input": [
      "ym_percentage_dict = get_ym_percentage_dict()\n",
      "\n",
      "#sample entry: October 2013\n",
      "print \"Example entry (October 2013):\", ym_percentage_dict[(2013,10)]\n",
      "print \"Average male fraction:\", numpy.average( ym_percentage_dict.values() )"
     ],
     "language": "python",
     "metadata": {},
     "outputs": [
      {
       "output_type": "stream",
       "stream": "stdout",
       "text": [
        "Example entry (October 2013): 0.731543624161\n",
        "Average male fraction: 0.746398410918\n"
       ]
      }
     ],
     "prompt_number": 235
    },
    {
     "cell_type": "markdown",
     "metadata": {},
     "source": [
      "We need to get an estimate of the percentage of males on csail-related. We do not have direct access to this information. As a proxy, we parse the names from http://www.csail.mit.edu/peoplesearch (also publicly available) and apply our gender checker. It appears that CSAIL is approximately 70% male."
     ]
    },
    {
     "cell_type": "code",
     "collapsed": false,
     "input": [
      "population_male_fraction = get_male_female_counts()\n",
      "print population_male_fraction"
     ],
     "language": "python",
     "metadata": {},
     "outputs": [
      {
       "output_type": "stream",
       "stream": "stdout",
       "text": [
        "0.696774193548\n"
       ]
      }
     ],
     "prompt_number": 216
    },
    {
     "cell_type": "markdown",
     "metadata": {},
     "source": [
      "74.6% of emails came from males, while CSAIL is comprised of 69.6% males."
     ]
    },
    {
     "cell_type": "markdown",
     "metadata": {},
     "source": [
      "It might be interesting to show how the fraction has changed month to month. There doesn't seem to be a particularly strong upward or downward trend."
     ]
    },
    {
     "cell_type": "code",
     "collapsed": false,
     "input": [
      "plot( [ ym_percentage_dict[ym] for ym in get_all_ym_tuples() ] )\n",
      "xlabel( \"Months Since July 2004\" )\n",
      "ylabel( \"Fraction of Emails Sent by Males\" )"
     ],
     "language": "python",
     "metadata": {},
     "outputs": [
      {
       "metadata": {},
       "output_type": "pyout",
       "prompt_number": 217,
       "text": [
        "<matplotlib.text.Text at 0x1064e6bd0>"
       ]
      },
      {
       "metadata": {},
       "output_type": "display_data",
       "png": "[encoded data removed]",
       "text": [
        "<matplotlib.figure.Figure at 0x109f304d0>"
       ]
      }
     ],
     "prompt_number": 217
    },
    {
     "cell_type": "markdown",
     "metadata": {},
     "source": [
      "Here is a histogram of the fractions for each month:"
     ]
    },
    {
     "cell_type": "code",
     "collapsed": false,
     "input": [
      "hist( ym_percentage_dict.values() )\n",
      "xlabel('Fraction of Emails Sent by Males' )\n",
      "ylabel( 'Number of Months' )"
     ],
     "language": "python",
     "metadata": {},
     "outputs": [
      {
       "metadata": {},
       "output_type": "pyout",
       "prompt_number": 218,
       "text": [
        "<matplotlib.text.Text at 0x109f30b50>"
       ]
      },
      {
       "metadata": {},
       "output_type": "display_data",
       "png": "[encoded data removed]",
       "text": [
        "<matplotlib.figure.Figure at 0x10a112f50>"
       ]
      }
     ],
     "prompt_number": 218
    },
    {
     "cell_type": "heading",
     "level": 3,
     "metadata": {},
     "source": [
      "Analysis"
     ]
    },
    {
     "cell_type": "markdown",
     "metadata": {},
     "source": [
      "\n",
      "\n",
      "We apply a one-sided t-test to our data, assuming the population mean is 0.70 (a slight overestimate of the fraction of CSAIL that is male). See http://docs.scipy.org/doc/scipy/reference/generated/scipy.stats.ttest_1samp.html for the scipy.stats documentation (note that this function returns the two-tailed p-value, and we want the one-tailed p-value)."
     ]
    },
    {
     "cell_type": "code",
     "collapsed": false,
     "input": [
      "from scipy import stats\n",
      "data = numpy.array( ym_percentage_dict.values() )\n",
      "ttest = stats.ttest_1samp(x,0.7)\n",
      "print \"t-statistic:\", ttest[0]\n",
      "print \"one-tailed p-value:\", ttest[1] / 2\n"
     ],
     "language": "python",
     "metadata": {},
     "outputs": [
      {
       "output_type": "stream",
       "stream": "stdout",
       "text": [
        "t-statistic: 5.65140624722\n",
        "one-tailed p-value: 5.95478505152e-08\n"
       ]
      }
     ],
     "prompt_number": 244
    },
    {
     "cell_type": "markdown",
     "metadata": {},
     "source": [
      "The p-value ie $5.95\\times10^{-08}$, which meets our significance threshold of $\\alpha=0.05$."
     ]
    },
    {
     "cell_type": "heading",
     "level": 3,
     "metadata": {},
     "source": [
      "Conclusions and Further Work"
     ]
    },
    {
     "cell_type": "markdown",
     "metadata": {},
     "source": [
      "This analysis suggests that males contribute disproportionately more to csail-related than females. The difference is small (74.6% to 69.7%) but statistically significant.\n",
      "\n",
      "Limitations: The gender checker is imperfect: some are not available and some gender inferences may be incorrect. As well, our estimate of  the population of members of csail-related may be incorrect, since we used the January 2014 CSAIL directory. However, we believe that this work offers a strong starting point for further analysis and discussion."
     ]
    },
    {
     "cell_type": "heading",
     "level": 3,
     "metadata": {},
     "source": [
      "Appendix: Code"
     ]
    },
    {
     "cell_type": "code",
     "collapsed": false,
     "input": [
      "def get_male_female_counts():\n",
      "    with open( '../data/mitcsailpeople.html' ) as f:\n",
      "        html_string = f.read()\n",
      "        parser = etree.HTMLParser()\n",
      "        tree = etree.parse( StringIO( html_string), parser )\n",
      "\n",
      "    root = tree.getroot()\n",
      "    for i in list(root):\n",
      "        if i.tag == 'body': \n",
      "            body_element = i\n",
      "        \n",
      "    table_element = [ i for i in body_element if i.tag == 'table' ][0]\n",
      "\n",
      "    for elem in list( table_element ):\n",
      "        if elem.tag == 'tbody':\n",
      "            pass\n",
      "        else:\n",
      "            pass\n",
      "        ct = 0\n",
      "        current_csail_gender_list = []\n",
      "        for name in csail_first_names:\n",
      "            name_to_use = None\n",
      "            if len( name.split() ) > 1:\n",
      "                name_to_use = name[0]\n",
      "                #print name\n",
      "            else:\n",
      "                name_to_use = name.replace( ' ', '' )\n",
      "            \n",
      "            if name_to_use.upper() in gender.gender:\n",
      "                inferred_gender = gender.gender[name_to_use.upper()]\n",
      "                current_csail_gender_list.append( inferred_gender )\n",
      "            else:\n",
      "                #print repr(name_to_use.upper()),\n",
      "                ct += 1\n",
      "    \n",
      "    total_counts = collections.Counter( current_csail_gender_list )\n",
      "    total_male = total_counts['male']\n",
      "    total_female = total_counts['female']\n",
      "    \n",
      "    return float( total_male ) / ( total_male + total_female )\n"
     ],
     "language": "python",
     "metadata": {},
     "outputs": [],
     "prompt_number": 215
    },
    {
     "cell_type": "code",
     "collapsed": false,
     "input": [
      "\n",
      "from lxml import etree\n",
      "from StringIO import StringIO\n",
      "sys.path.append( '../third-party/gender-from-name/' )\n",
      "import gender"
     ],
     "language": "python",
     "metadata": {},
     "outputs": [],
     "prompt_number": 219
    },
    {
     "cell_type": "code",
     "collapsed": false,
     "input": [
      "import calendar\n",
      "\n",
      "def get_all_ym_tuples():\n",
      "    years = range( 2004,2015)\n",
      "    all_month_numbers = range(1,13)\n",
      "    months = list( calendar.month_name[1:] )\n",
      "    \n",
      "    year_month_tuples = []\n",
      "    \n",
      "    year = 2004\n",
      "    months = range(7,13)\n",
      "    for m in months:\n",
      "        year_month_tuples.append( ( year, m ) )\n",
      "    \n",
      "    years = range( 2005, 2014 )\n",
      "    \n",
      "    for y in years:\n",
      "        for m in all_month_numbers:\n",
      "            year_month_tuples.append( ( y, m ) )\n",
      "            \n",
      "    year_month_tuples.append( ( 2014, 1 ) )\n",
      "\n",
      "    return year_month_tuples\n",
      "\n"
     ],
     "language": "python",
     "metadata": {},
     "outputs": [
      {
       "output_type": "stream",
       "stream": "stdout",
       "text": [
        "\n"
       ]
      }
     ],
     "prompt_number": 99
    },
    {
     "cell_type": "code",
     "collapsed": false,
     "input": [
      "import urllib2\n",
      "\n",
      "\n",
      "def get_emails_by_month():\n",
      "    ym_email_dict = {}\n",
      "    year_month_tuples = get_all_ym_tuples()\n",
      "    base_url = \"http://lists.csail.mit.edu/pipermail/csail-related/\"\n",
      "    for ym in year_month_tuples:\n",
      "        year = ym[0]\n",
      "        month_name = calendar.month_name[ym[1]]\n",
      "        \n",
      "        folder = str( year ) + \"-\" + month_name + \"/\"\n",
      "        full_url = base_url + folder + \"author.html\"\n",
      "        data = urllib2.urlopen( full_url )\n",
      "        html_string = data.read()\n",
      "        parser = etree.HTMLParser()\n",
      "        tree = etree.parse( StringIO( html_string), parser )\n",
      "        root = tree.getroot()\n",
      "        for i in list(root):\n",
      "            if i.tag == 'body': \n",
      "                body_element = i \n",
      "        \n",
      "        #print body_element\n",
      "        \n",
      "        ul_elements = [ i for i in list( body_element ) if i.tag == 'ul' ]\n",
      "        email_thread_elements = ul_elements[1]\n",
      "        all_authors = []\n",
      "        for elem in email_thread_elements.getchildren():\n",
      "            if elem.tag == 'li':\n",
      "                for elem2 in elem.getchildren():\n",
      "                    if elem2.tag == 'i':\n",
      "                        all_authors.append( elem2.text.strip('\\n' ) )\n",
      "        #print year, month_name, len( flatten_threads( all_authors ) )\n",
      "        ym_email_dict[ ym ] = all_authors \n",
      "        \n",
      "    return ym_email_dict\n",
      "        \n",
      "    "
     ],
     "language": "python",
     "metadata": {},
     "outputs": [],
     "prompt_number": 168
    },
    {
     "cell_type": "code",
     "collapsed": false,
     "input": [
      "def get_ym_percentage_dict():\n",
      "    ym_percentage_dict = {}        \n",
      "    for ym in get_all_ym_tuples():\n",
      "        all_authors = ym_email_dict[ym]\n",
      "        gender_list = []\n",
      "        gender_unknown = []\n",
      "        for name in list(all_authors):\n",
      "            first_name = get_name( name )\n",
      "            if first_name != None:\n",
      "                first_name_upper = first_name.upper()\n",
      "                \n",
      "                if first_name_upper in gender.gender:    \n",
      "                    gender_result = gender.gender[ first_name.upper() ]\n",
      "                    gender_list.append( gender_result )\n",
      "                    #if type(gender_result) is tuple:\n",
      "                    #    print first_name_upper, gender_result\n",
      "                else:\n",
      "                    gender_unknown.append( first_name_upper )\n",
      "                    #print first_name, \"not in dictionary\"\n",
      "    \n",
      "                \n",
      "        total_counts = collections.Counter( gender_list )\n",
      "        total_male = total_counts['male']\n",
      "        total_female = total_counts['female']\n",
      "    \n",
      "        ym_percentage_dict[ym] = float( total_male ) / ( total_male + total_female )\n",
      "    return ym_percentage_dict"
     ],
     "language": "python",
     "metadata": {},
     "outputs": [],
     "prompt_number": 204
    },
    {
     "cell_type": "code",
     "collapsed": false,
     "input": [
      "def get_name( full_name ):\n",
      "    name_to_check = None\n",
      "    if full_name == '':\n",
      "        name_to_check = None\n",
      "    else:\n",
      "        name_words = full_name.split()\n",
      "        if \",\" in name_words[0]:\n",
      "            first_name_start_idx = 1\n",
      "        else: \n",
      "            first_name_start_idx = 0\n",
      "            \n",
      "        possible_first_name = name_words[first_name_start_idx]\n",
      "        possible_first_name_no_initials = possible_first_name.replace( '.', '' )\n",
      "        if len( possible_first_name_no_initials ) == 1:\n",
      "            if first_name_start_idx+1 < len( name_words ):\n",
      "                name_to_check = name_words[first_name_start_idx+1]\n",
      "            else:\n",
      "                name_to_check = None\n",
      "                \n",
      "        else:\n",
      "            name_to_check = name_words[first_name_start_idx]\n",
      "    \n",
      "        # clean name\n",
      "        name_to_check = name_to_check.replace( '\"', '' )\n",
      "    \n",
      "    return name_to_check\n",
      "        \n",
      "    \n",
      "    "
     ],
     "language": "python",
     "metadata": {},
     "outputs": [],
     "prompt_number": 182
    }
   ],
   "metadata": {}
  }
 ]
}