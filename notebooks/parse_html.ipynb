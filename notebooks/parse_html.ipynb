{
 "metadata": {
  "name": ""
 },
 "nbformat": 3,
 "nbformat_minor": 0,
 "worksheets": [
  {
   "cells": [
    {
     "cell_type": "code",
     "collapsed": false,
     "input": [
      "from lxml import etree\n",
      "from StringIO import StringIO\n",
      "\n",
      "sys.path.append( '../third-party/gender-from-name/' )\n",
      "import gender"
     ],
     "language": "python",
     "metadata": {},
     "outputs": [],
     "prompt_number": 219
    },
    {
     "cell_type": "code",
     "collapsed": false,
     "input": [
      "filepath = '../data/2013-November-thread.html' \n",
      "\n",
      "\n"
     ],
     "language": "python",
     "metadata": {},
     "outputs": [],
     "prompt_number": 2
    },
    {
     "cell_type": "code",
     "collapsed": false,
     "input": [
      "import calendar\n",
      "years = range( 2004,2015)\n",
      "all_month_numbers = range(1,13)\n",
      "months = list( calendar.month_name[1:] )\n",
      "\n",
      "year_month_tuples = []\n",
      "\n",
      "year = 2004\n",
      "months = range(7,13)\n",
      "for m in months:\n",
      "    year_month_tuples.append( ( year, m ) )\n",
      "\n",
      "years = range( 2005, 2014 )\n",
      "\n",
      "for y in years:\n",
      "    for m in all_month_numbers:\n",
      "        year_month_tuples.append( ( y, m ) )\n",
      "        \n",
      "year_month_tuples.append( ( 2014, 1 ) )\n",
      "\n",
      "\n",
      "\n"
     ],
     "language": "python",
     "metadata": {},
     "outputs": [],
     "prompt_number": 220
    },
    {
     "cell_type": "code",
     "collapsed": false,
     "input": [
      "with open( '../data/mitcsailpeople.html' ) as f:\n",
      "    html_string = f.read()\n",
      "    parser = etree.HTMLParser()\n",
      "    tree = etree.parse( StringIO( html_string), parser )\n",
      "\n",
      "root = tree.getroot()\n",
      "for i in list(root):\n",
      "    if i.tag == 'body': \n",
      "        body_element = i\n",
      "        \n",
      "table_element = [ i for i in body_element if i.tag == 'table' ][0]\n",
      "csail_first_names = []\n",
      "for elem in list( table_element ):\n",
      "    if elem.tag == 'tbody':\n",
      "        for tr_element in elem:\n",
      "            td_elements = [ i for i in tr_element if i.tag == 'td' ]\n",
      "            if len( td_elements ) == 0:\n",
      "                pass\n",
      "            else:\n",
      "                first_name_td_element = td_elements[1]\n",
      "                csail_first_names.append( first_name_td_element.xpath(\"string()\") )\n",
      "    else:\n",
      "        pass"
     ],
     "language": "python",
     "metadata": {},
     "outputs": [],
     "prompt_number": 248
    },
    {
     "cell_type": "code",
     "collapsed": false,
     "input": [
      "ct = 0\n",
      "current_csail_gender_list = []\n",
      "for name in csail_first_names:\n",
      "    name_to_use = None\n",
      "    if len( name.split() ) > 1:\n",
      "        name_to_use = name[0]\n",
      "        #print name\n",
      "    else:\n",
      "        name_to_use = name.replace( ' ', '' )\n",
      "    \n",
      "    if name_to_use.upper() in gender.gender:\n",
      "        inferred_gender = gender.gender[name_to_use.upper()]\n",
      "        current_csail_gender_list.append( inferred_gender )\n",
      "    else:\n",
      "        #print repr(name_to_use.upper()),\n",
      "        ct += 1\n",
      "\n",
      "total_counts = collections.Counter( current_csail_gender_list )\n",
      "total_male = total_counts['male']\n",
      "total_female = total_counts['female']\n",
      "\n",
      "print float( total_male ) / ( total_male + total_female )\n",
      "\n",
      "    "
     ],
     "language": "python",
     "metadata": {},
     "outputs": [
      {
       "output_type": "stream",
       "stream": "stdout",
       "text": [
        "0.696774193548\n"
       ]
      }
     ],
     "prompt_number": 263
    },
    {
     "cell_type": "code",
     "collapsed": false,
     "input": [
      "import urllib2\n",
      "base_url = \"http://lists.csail.mit.edu/pipermail/csail-related/\"\n",
      "\n",
      "ym_email_dict = {}\n",
      "\n",
      "for ym in year_month_tuples:\n",
      "    year = ym[0]\n",
      "    month_name = calendar.month_name[ym[1]]\n",
      "    \n",
      "    folder = str( year ) + \"-\" + month_name + \"/\"\n",
      "    full_url = base_url + folder + \"thread.html\"\n",
      "    data = urllib2.urlopen( full_url )\n",
      "    html_string = data.read()\n",
      "    parser = etree.HTMLParser()\n",
      "    tree = etree.parse( StringIO( html_string), parser )\n",
      "    root = tree.getroot()\n",
      "    for i in list(root):\n",
      "        if i.tag == 'body': \n",
      "            body_element = i \n",
      "    \n",
      "    #print body_element\n",
      "    \n",
      "    ul_elements = [ i for i in list( body_element ) if i.tag == 'ul' ]\n",
      "    email_thread_elements = ul_elements[1]\n",
      "    all_authors = []\n",
      "    for elem in email_thread_elements.getchildren():\n",
      "        if elem.tag == 'li':\n",
      "            all_authors.append( get_authors_from_thread( elem ) )\n",
      "    #print year, month_name, len( flatten_threads( all_authors ) )\n",
      "    ym_email_dict[ ym ] = all_authors \n",
      "    \n",
      "    \n",
      "all_authors_flattened = []\n",
      "for ym in year_month_tuples:\n",
      "    all_authors_flattened += flatten_threads( ym_email_dict[ym] ) \n",
      "    "
     ],
     "language": "python",
     "metadata": {},
     "outputs": [],
     "prompt_number": 148
    },
    {
     "cell_type": "code",
     "collapsed": false,
     "input": [
      "all_authors_2009 = []\n",
      "for ym in year_month_tuples:\n",
      "    if ym[0] >= 2009:\n",
      "        all_authors_2009 += flatten_threads( ym_email_dict[ym] ) \n",
      "        "
     ],
     "language": "python",
     "metadata": {},
     "outputs": [],
     "prompt_number": 221
    },
    {
     "cell_type": "code",
     "collapsed": false,
     "input": [
      "print collections.Counter( all_authors_flattened )['']"
     ],
     "language": "python",
     "metadata": {},
     "outputs": [
      {
       "output_type": "stream",
       "stream": "stdout",
       "text": [
        "16\n"
       ]
      }
     ],
     "prompt_number": 164
    },
    {
     "cell_type": "code",
     "collapsed": false,
     "input": [
      "all_authors = all_authors_flattened\n",
      "\n",
      "ct = 0\n",
      "\n",
      "gender_list = []\n",
      "gender_unknown = []\n",
      "for name in list(all_authors):\n",
      "    first_name = get_name( name )\n",
      "    if first_name != None:\n",
      "        first_name_upper = first_name.upper()\n",
      "        \n",
      "        if first_name_upper in gender.gender:    \n",
      "            gender_result = gender.gender[ first_name.upper() ]\n",
      "            gender_list.append( gender_result )\n",
      "            #if type(gender_result) is tuple:\n",
      "            #    print first_name_upper, gender_result\n",
      "        else:\n",
      "            ct += 1\n",
      "            gender_unknown.append( first_name_upper )\n",
      "            #print first_name, \"not in dictionary\"\n",
      "\n",
      "            \n",
      "total_counts = collections.Counter( gender_list )\n",
      "total_male = total_counts['male']\n",
      "total_female = total_counts['female']\n",
      "\n",
      "print float( total_male ) / ( total_male + total_female )\n",
      "\n",
      "gender_set_list = []\n",
      "\n",
      "for name in list(set(all_authors)):\n",
      "    first_name = get_name( name )\n",
      "    if first_name != None:\n",
      "        first_name_upper = first_name.upper()\n",
      "        \n",
      "        if first_name_upper in gender.gender:    \n",
      "            gender_result = gender.gender[ first_name.upper() ]\n",
      "            gender_set_list.append( gender_result )\n",
      "            #if type(gender_result) is tuple:\n",
      "            #    print first_name_upper, gender_result\n",
      "        else:\n",
      "            pass\n",
      "            #ct += 1\n",
      "            #gender_unknown.append( first_name_upper )\n",
      "            #print first_name, \"not in dictionary\"\n",
      "            \n",
      "total_counts = collections.Counter( gender_set_list )\n",
      "total_male = total_counts['male']\n",
      "total_female = total_counts['female']\n",
      "\n",
      "print float( total_male ) / ( total_male + total_female )"
     ],
     "language": "python",
     "metadata": {},
     "outputs": [
      {
       "output_type": "stream",
       "stream": "stdout",
       "text": [
        "0.737498268458\n",
        "0.711743772242\n"
       ]
      }
     ],
     "prompt_number": 226
    },
    {
     "cell_type": "code",
     "collapsed": false,
     "input": [
      "gender_set_list [] "
     ],
     "language": "python",
     "metadata": {},
     "outputs": [
      {
       "output_type": "stream",
       "stream": "stdout",
       "text": [
        "0.737498268458\n"
       ]
      }
     ],
     "prompt_number": 216
    },
    {
     "cell_type": "code",
     "collapsed": false,
     "input": [
      "print collections.Counter( gender_list )"
     ],
     "language": "python",
     "metadata": {},
     "outputs": [
      {
       "output_type": "stream",
       "stream": "stdout",
       "text": [
        "Counter({'male': 5324, 'female': 1895, ('male', 'female'): 27, ('female', 'male'): 4})\n"
       ]
      }
     ],
     "prompt_number": 203
    },
    {
     "cell_type": "code",
     "collapsed": false,
     "input": [
      "def get_name( full_name ):\n",
      "    name_to_check = None\n",
      "    if full_name == '':\n",
      "        name_to_check = None\n",
      "    else:\n",
      "        name_words = full_name.split()\n",
      "        if \",\" in name_words[0]:\n",
      "            first_name_start_idx = 1\n",
      "        else: \n",
      "            first_name_start_idx = 0\n",
      "            \n",
      "        possible_first_name = name_words[first_name_start_idx]\n",
      "        possible_first_name_no_initials = possible_first_name.replace( '.', '' )\n",
      "        if len( possible_first_name_no_initials ) == 1:\n",
      "            if first_name_start_idx+1 < len( name_words ):\n",
      "                name_to_check = name_words[first_name_start_idx+1]\n",
      "            else:\n",
      "                name_to_check = None\n",
      "                \n",
      "        else:\n",
      "            name_to_check = name_words[first_name_start_idx]\n",
      "    \n",
      "        # clean name\n",
      "        name_to_check = name_to_check.replace( '\"', '' )\n",
      "    \n",
      "    return name_to_check\n",
      "        \n",
      "    \n",
      "    "
     ],
     "language": "python",
     "metadata": {},
     "outputs": [],
     "prompt_number": 182
    },
    {
     "cell_type": "code",
     "collapsed": false,
     "input": [],
     "language": "python",
     "metadata": {},
     "outputs": []
    }
   ],
   "metadata": {}
  }
 ]
}